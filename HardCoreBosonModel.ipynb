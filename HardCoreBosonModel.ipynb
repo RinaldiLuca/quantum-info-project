{
 "cells": [
  {
   "cell_type": "code",
   "execution_count": 2,
   "metadata": {},
   "outputs": [],
   "source": [
    "import numpy as np\n",
    "import matplotlib.pyplot as plt\n",
    "\n",
    "from tenpy.models.model import CouplingModel, MPOModel\n",
    "from tenpy.models.lattice import Chain\n",
    "from tenpy.networks.site import BosonSite\n",
    "from tenpy.tools.params import asConfig"
   ]
  },
  {
   "cell_type": "code",
   "execution_count": 6,
   "metadata": {},
   "outputs": [
    {
     "name": "stdout",
     "output_type": "stream",
     "text": [
      "Number of sites in the Unit Cell: 1\n"
     ]
    },
    {
     "data": {
      "image/png": "[encoded data removed]",
      "text/plain": [
       "<Figure size 360x432 with 1 Axes>"
      ]
     },
     "metadata": {
      "needs_background": "light"
     },
     "output_type": "display_data"
    }
   ],
   "source": [
    "#PLOT THE LATTICE TO HELP VISUALIZATION\n",
    "\n",
    "s = BosonSite(Nmax=2, conserve=None, filling=3/4) \n",
    "lat = Chain(L=12, site=s, bc='periodic') \n",
    "print(\"Number of sites in the Unit Cell:\", lat.Lu)\n",
    "\n",
    "plt.figure(figsize=(5, 6))\n",
    "ax = plt.gca()\n",
    "lat.plot_coupling(ax)                #red lines: nearest-neighbor interaction\n",
    "lat.plot_order(ax, linestyle=':')    #useless for my case\n",
    "lat.plot_sites(ax)                   #blue dots: sites\n",
    "lat.plot_basis(ax, origin=(0,-0.5))  #green arrow\n",
    "ax.set_aspect('equal')\n",
    "ax.set_xlim(-1,13)\n",
    "ax.set_ylim(-2,2)\n",
    "plt.show()"
   ]
  },
  {
   "cell_type": "code",
   "execution_count": 7,
   "metadata": {},
   "outputs": [],
   "source": [
    "class HardCoreBosonModel(CouplingModel,MPOModel):\n",
    "    \n",
    "    def __init__(self, model_params):\n",
    "    \n",
    "        # 0) read out/set default parameters\n",
    "        model_params = asConfig(model_params, \"BoseModel\")\n",
    "        \n",
    "        L = model_params.get('L', 12)                 #length of the chain\n",
    "        t = np.asarray(model_params.get('t', 1.))     #tunnelling rate\n",
    "        rc = model_params.get('rc', 1.)               #range of soft-shoulder interaction\n",
    "        V = np.asarray(model_params.get('V', 1.))     # soft-shoulder interaction\n",
    "        bc_MPS = model_params.get('bc_MPS', 'finite') #boundary condition of MPS\n",
    "        filling = model_params.get('filling', 0.5)    #average site filling \n",
    "        n_max = model_params.get('n_max', 1)          #max number of bosons per site\n",
    "        conserve = model_params.get('conserve', 'N')  \n",
    "        \n",
    "        \n",
    "        # 3) local physical site\n",
    "        site = BosonSite(Nmax=n_max, conserve=conserve, filling=filling)\n",
    "        \n",
    "        # 4) lattice #ARE THESE PARAMETERS OK?\n",
    "        bc = 'open' if bc_MPS == 'finite' else 'periodic'\n",
    "        lat = Chain(L, site, bc=bc, bc_MPS=bc_MPS)\n",
    "        \n",
    "        # 5) initialize CouplingModel\n",
    "        CouplingModel.__init__(self, lat)\n",
    "        \n",
    "        \n",
    "        # 6) add terms of the Hamiltonian\n",
    "        \n",
    "        #NEAREST NEIGHBOR INTERACTION \n",
    "        for u1, u2, dx in self.lat.pairs['nearest_neighbors']:\n",
    "            self.add_coupling(-t, u1, 'Bd', u2, 'B', dx, plus_hc=True)\n",
    "            \n",
    "        #SOFT SHOULDER INTERACTION\n",
    "        for int_range in range(2,rc+1):\n",
    "            (u1, u2, dx) = self.lat.find_coupling_pairs(max_dx=L, cutoff=rc).get(int_range)[0]\n",
    "            self.add_coupling(V, u1, 'N', u2, 'N', dx, plus_hc=False)\n",
    "        \n",
    "        # 7) initialize H_MPO\n",
    "        MPOModel.__init__(self, lat, self.calc_H_MPO())\n",
    "    \n",
    "    "
   ]
  },
  {
   "cell_type": "code",
   "execution_count": 8,
   "metadata": {},
   "outputs": [],
   "source": [
    "#dictionary of model parameters from documentation\n",
    "params = {\n",
    "    'bc_MPS' : 'finite', #boundary conditions for MPS\n",
    "    'conserve' : 'N', #what should be conserved\n",
    "    'filling' : 3/4, #float, average filling\n",
    "    'L' : 12,#length in the x-direction\n",
    "    'n_max' : 1, #maximum number of bosons per site????\n",
    "    't' : 1.,\n",
    "    'V' : 1.,\n",
    "    'rc': 4, #range of soft-shulder ionteraction: in this way nearest-neighbor interaction\n",
    "}\n",
    "\n",
    "\n",
    "#initialize the model\n",
    "M = HardCoreBosonModel(params)"
   ]
  },
  {
   "cell_type": "code",
   "execution_count": 11,
   "metadata": {},
   "outputs": [
    {
     "name": "stdout",
     "output_type": "stream",
     "text": [
      "nearest_neighbors\n",
      "0 0 [1] 1.0\n",
      "next_nearest_neighbors\n",
      "0 0 [2] 2.0\n",
      "next_next_nearest_neighbors\n",
      "0 0 [3] 3.0\n",
      "(dist)   (pairs)\n",
      "1.000000 nearest_neighbors\n",
      "2.000000 next_nearest_neighbors\n",
      "3.000000 next_next_nearest_neighbors\n"
     ]
    }
   ],
   "source": [
    "lat_pairs = M.lat.pairs\n",
    "\n",
    "# get distances of the couplings\n",
    "dist_pair = {}\n",
    "for pair in lat_pairs:\n",
    "    print(pair)\n",
    "    dist = None\n",
    "    for u1, u2, dx in lat_pairs[pair]:\n",
    "        d = M.lat.distance(u1, u2, dx)\n",
    "        print(u1, u2, dx, d)\n",
    "        if dist is None:\n",
    "            dist = d\n",
    "            dist_pair[d] = pair\n",
    "        else:\n",
    "            assert abs(dist-d) < 1.e-14\n",
    "\n",
    "dists = sorted(dist_pair.keys())\n",
    "if len(dists) != len(lat_pairs):\n",
    "    raise ValueError(\"no unique mapping dist -> pair\")\n",
    "    \n",
    "print(\"(dist)   (pairs)\")\n",
    "for d in dists:\n",
    "    print(\"{0:.6f} {1}\".format(d, dist_pair[d]))\n",
    "    "
   ]
  },
  {
   "cell_type": "code",
   "execution_count": 13,
   "metadata": {},
   "outputs": [
    {
     "data": {
      "image/png": "[encoded data removed]",
      "text/plain": [
       "<Figure size 432x288 with 1 Axes>"
      ]
     },
     "metadata": {
      "needs_background": "light"
     },
     "output_type": "display_data"
    }
   ],
   "source": [
    "colors = [plt.cm.viridis(r/dists[-1]) for r in dists]\n",
    "centers = np.array([[2,0], [7,0]]) # one center for each site in the unit cell\n",
    "us = list(range(lat.Lu))\n",
    "\n",
    "fig = plt.figure()\n",
    "ax = plt.gca()\n",
    "\n",
    "lat.plot_sites(ax, markersize=1.3)\n",
    "\n",
    "for center in centers:\n",
    "    for r, c in zip(dists, colors):\n",
    "        circ = plt.Circle(center, r, fill=False, color=c)\n",
    "        ax.add_artist(circ)\n",
    "\n",
    "ax.set_aspect('equal')\n",
    "ax.set_xlim(-1,13)\n",
    "ax.set_ylim(-2,2)\n",
    "t = ax.set_title(\"distances: \" + ' '.join(['{0:.2f}'.format(d) for d in dists]))"
   ]
  },
  {
   "cell_type": "code",
   "execution_count": null,
   "metadata": {},
   "outputs": [],
   "source": []
  }
 ],
 "metadata": {
  "kernelspec": {
   "display_name": "Python 3",
   "language": "python",
   "name": "python3"
  },
  "language_info": {
   "codemirror_mode": {
    "name": "ipython",
    "version": 3
   },
   "file_extension": ".py",
   "mimetype": "text/x-python",
   "name": "python",
   "nbconvert_exporter": "python",
   "pygments_lexer": "ipython3",
   "version": "3.7.6"
  }
 },
 "nbformat": 4,
 "nbformat_minor": 4
}
