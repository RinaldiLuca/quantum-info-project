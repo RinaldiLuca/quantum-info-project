{
 "cells": [
  {
   "cell_type": "code",
   "execution_count": 1,
   "id": "8f2d6fa9-a1c6-4dc6-8feb-152c258d05ef",
   "metadata": {},
   "outputs": [],
   "source": [
    "import numpy as np\n",
    "import random \n",
    "import matplotlib.pyplot as plt\n",
    "\n",
    "from tenpy.algorithms.truncation import svd_theta\n",
    "from tenpy.networks.mps import MPS\n",
    "from tenpy.models.model import CouplingMPOModel\n",
    "from tenpy.networks.site import BosonSite\n",
    "\n",
    "from modules.myDMRG import SimpleDMRGEngine_Boson"
   ]
  },
  {
   "cell_type": "markdown",
   "id": "1ebeb8f8-28eb-404d-8ddb-d20817df0304",
   "metadata": {},
   "source": [
    "## Model"
   ]
  },
  {
   "cell_type": "code",
   "execution_count": 21,
   "id": "d16fb23b-dca8-4810-b39f-61150d912f38",
   "metadata": {},
   "outputs": [],
   "source": [
    "class myModel(CouplingMPOModel):\n",
    "    \n",
    "    def init_sites(self, model_params):\n",
    "        n_max = model_params.get('n_max', 0)\n",
    "        filling = model_params.get('filling', 0)\n",
    "        conserve = model_params.get('conserve', 'N')\n",
    "        if conserve == 'best':\n",
    "            conserve = 'N'\n",
    "            self.logger.info(\"%s: set conserve to %s\", self.name, conserve)\n",
    "        site = BosonSite(Nmax=n_max, conserve=conserve, filling=filling)\n",
    "        return site\n",
    "\n",
    "    def init_terms(self, model_params):\n",
    "        # 0) Read and set parameters.\n",
    "        rc = model_params.get('rc', 0)\n",
    "        t = model_params.get('t', 1.)\n",
    "        U = model_params.get('U', 0.)\n",
    "        V = model_params.get('V', 0.)\n",
    "        mu = model_params.get('mu', 0)\n",
    "        for u1, u2, dx in self.lat.pairs['nearest_neighbors']:\n",
    "            print('add t')\n",
    "            self.add_coupling(-t, u1, 'Bd', u2, 'B', dx, plus_hc=True)\n",
    "            #self.add_coupling(-np.conj(t), u2, 'Bd', u1, 'B', -dx)#, plus_hc=True)\n",
    "        for dx in range(1,rc+1):\n",
    "            self.add_coupling(V, 0, 'N', 0, 'N', dx)"
   ]
  },
  {
   "cell_type": "markdown",
   "id": "bae227a4-f24c-48b9-bde3-dc9b3e68d59d",
   "metadata": {},
   "source": [
    "***"
   ]
  },
  {
   "cell_type": "code",
   "execution_count": 208,
   "id": "bff0ffe2-6331-45bb-aebe-a1c348bf402c",
   "metadata": {},
   "outputs": [
    {
     "name": "stdout",
     "output_type": "stream",
     "text": [
      "add t\n"
     ]
    },
    {
     "data": {
      "text/plain": [
       "<BarContainer object of 48 artists>"
      ]
     },
     "execution_count": 208,
     "metadata": {},
     "output_type": "execute_result"
    },
    {
     "data": {
      "image/png": "[encoded data removed]",
      "text/plain": [
       "<Figure size 432x288 with 1 Axes>"
      ]
     },
     "metadata": {
      "needs_background": "light"
     },
     "output_type": "display_data"
    }
   ],
   "source": [
    "avg_n = 1/4\n",
    "model_params = dict(L=48, n_max=1, t=1, V=100, rc=4, conserve='N', filling=avg_n, bc_MPS='finite', bc_x='periodic')\n",
    "M = myModel(model_params)\n",
    "product_state = ['1']*int(M.lat.N_sites*avg_n) + ['vac']*int(M.lat.N_sites*(1-avg_n))\n",
    "random.shuffle(product_state)\n",
    "psi = MPS.from_product_state(M.lat.mps_sites(), product_state, bc=M.lat.bc_MPS)\n",
    "plt.bar(range(48), psi.expectation_value('N'))"
   ]
  },
  {
   "cell_type": "code",
   "execution_count": 209,
   "id": "1294e7ae-c737-4de0-92d4-0c7a9a4afb41",
   "metadata": {},
   "outputs": [],
   "source": [
    "prova = SimpleDMRGEngine_Boson(psi, M, chi_max=100, eps=1.e-10)"
   ]
  },
  {
   "cell_type": "code",
   "execution_count": 220,
   "id": "56db8b80-62da-448d-a303-c796bf2e0a8b",
   "metadata": {},
   "outputs": [
    {
     "name": "stdout",
     "output_type": "stream",
     "text": [
      "13792.178644426434 13792.178637642444\n"
     ]
    }
   ],
   "source": [
    "for ii in range(1):\n",
    "    prova.sweep()"
   ]
  },
  {
   "cell_type": "code",
   "execution_count": 221,
   "id": "4d0e1fe3-4ce6-4efb-a3a3-f229b78df619",
   "metadata": {},
   "outputs": [
    {
     "data": {
      "text/plain": [
       "<BarContainer object of 48 artists>"
      ]
     },
     "execution_count": 221,
     "metadata": {},
     "output_type": "execute_result"
    },
    {
     "data": {
      "image/png": "[encoded data removed]",
      "text/plain": [
       "<Figure size 432x288 with 1 Axes>"
      ]
     },
     "metadata": {
      "needs_background": "light"
     },
     "output_type": "display_data"
    }
   ],
   "source": [
    "plt.bar(range(48),prova.psi.expectation_value('N'))"
   ]
  },
  {
   "cell_type": "code",
   "execution_count": 189,
   "id": "d837a0f9-2d41-4fb0-80f1-2ee49886b5f6",
   "metadata": {},
   "outputs": [
    {
     "name": "stdout",
     "output_type": "stream",
     "text": [
      "MPS, L=48, bc='finite'.\n",
      "chi: [2, 4, 8, 16, 32, 48, 60, 68, 100, 100, 100, 100, 100, 100, 100, 100, 100, 100, 100, 100, 100, 100, 100, 100, 100, 100, 100, 100, 100, 100, 100, 100, 100, 100, 100, 100, 100, 100, 100, 74, 66, 51, 32, 16, 8, 4, 2]\n",
      "first two sites: BosonSite(1, 'N', 0.250000) BosonSite(1, 'N', 0.250000)\n",
      "first two forms:(1.0, 0.0) (1.0, 0.0)\n"
     ]
    }
   ],
   "source": [
    "print(psi)"
   ]
  },
  {
   "cell_type": "code",
   "execution_count": 178,
   "id": "5da5813a-78fa-4d10-939c-a1544ee660a3",
   "metadata": {},
   "outputs": [
    {
     "data": {
      "text/plain": [
       "{0: {('N', 'Id'): {1: {'N': 100},\n",
       "   47: {'N': 100},\n",
       "   2: {'N': 100},\n",
       "   46: {'N': 100}}},\n",
       " 1: {('N', 'Id'): {2: {'N': 100}, 3: {'N': 100}, 47: {'N': 100}}},\n",
       " 2: {('N', 'Id'): {3: {'N': 100}, 4: {'N': 100}}},\n",
       " 3: {('N', 'Id'): {4: {'N': 100}, 5: {'N': 100}}},\n",
       " 4: {('N', 'Id'): {5: {'N': 100}, 6: {'N': 100}}},\n",
       " 5: {('N', 'Id'): {6: {'N': 100}, 7: {'N': 100}}},\n",
       " 6: {('N', 'Id'): {7: {'N': 100}, 8: {'N': 100}}},\n",
       " 7: {('N', 'Id'): {8: {'N': 100}, 9: {'N': 100}}},\n",
       " 8: {('N', 'Id'): {9: {'N': 100}, 10: {'N': 100}}},\n",
       " 9: {('N', 'Id'): {10: {'N': 100}, 11: {'N': 100}}},\n",
       " 10: {('N', 'Id'): {11: {'N': 100}, 12: {'N': 100}}},\n",
       " 11: {('N', 'Id'): {12: {'N': 100}, 13: {'N': 100}}},\n",
       " 12: {('N', 'Id'): {13: {'N': 100}, 14: {'N': 100}}},\n",
       " 13: {('N', 'Id'): {14: {'N': 100}, 15: {'N': 100}}},\n",
       " 14: {('N', 'Id'): {15: {'N': 100}, 16: {'N': 100}}},\n",
       " 15: {('N', 'Id'): {16: {'N': 100}, 17: {'N': 100}}},\n",
       " 16: {('N', 'Id'): {17: {'N': 100}, 18: {'N': 100}}},\n",
       " 17: {('N', 'Id'): {18: {'N': 100}, 19: {'N': 100}}},\n",
       " 18: {('N', 'Id'): {19: {'N': 100}, 20: {'N': 100}}},\n",
       " 19: {('N', 'Id'): {20: {'N': 100}, 21: {'N': 100}}},\n",
       " 20: {('N', 'Id'): {21: {'N': 100}, 22: {'N': 100}}},\n",
       " 21: {('N', 'Id'): {22: {'N': 100}, 23: {'N': 100}}},\n",
       " 22: {('N', 'Id'): {23: {'N': 100}, 24: {'N': 100}}},\n",
       " 23: {('N', 'Id'): {24: {'N': 100}, 25: {'N': 100}}},\n",
       " 24: {('N', 'Id'): {25: {'N': 100}, 26: {'N': 100}}},\n",
       " 25: {('N', 'Id'): {26: {'N': 100}, 27: {'N': 100}}},\n",
       " 26: {('N', 'Id'): {27: {'N': 100}, 28: {'N': 100}}},\n",
       " 27: {('N', 'Id'): {28: {'N': 100}, 29: {'N': 100}}},\n",
       " 28: {('N', 'Id'): {29: {'N': 100}, 30: {'N': 100}}},\n",
       " 29: {('N', 'Id'): {30: {'N': 100}, 31: {'N': 100}}},\n",
       " 30: {('N', 'Id'): {31: {'N': 100}, 32: {'N': 100}}},\n",
       " 31: {('N', 'Id'): {32: {'N': 100}, 33: {'N': 100}}},\n",
       " 32: {('N', 'Id'): {33: {'N': 100}, 34: {'N': 100}}},\n",
       " 33: {('N', 'Id'): {34: {'N': 100}, 35: {'N': 100}}},\n",
       " 34: {('N', 'Id'): {35: {'N': 100}, 36: {'N': 100}}},\n",
       " 35: {('N', 'Id'): {36: {'N': 100}, 37: {'N': 100}}},\n",
       " 36: {('N', 'Id'): {37: {'N': 100}, 38: {'N': 100}}},\n",
       " 37: {('N', 'Id'): {38: {'N': 100}, 39: {'N': 100}}},\n",
       " 38: {('N', 'Id'): {39: {'N': 100}, 40: {'N': 100}}},\n",
       " 39: {('N', 'Id'): {40: {'N': 100}, 41: {'N': 100}}},\n",
       " 40: {('N', 'Id'): {41: {'N': 100}, 42: {'N': 100}}},\n",
       " 41: {('N', 'Id'): {42: {'N': 100}, 43: {'N': 100}}},\n",
       " 42: {('N', 'Id'): {43: {'N': 100}, 44: {'N': 100}}},\n",
       " 43: {('N', 'Id'): {44: {'N': 100}, 45: {'N': 100}}},\n",
       " 44: {('N', 'Id'): {45: {'N': 100}, 46: {'N': 100}}},\n",
       " 45: {('N', 'Id'): {46: {'N': 100}, 47: {'N': 100}}},\n",
       " 46: {('N', 'Id'): {47: {'N': 100}}}}"
      ]
     },
     "execution_count": 178,
     "metadata": {},
     "output_type": "execute_result"
    }
   ],
   "source": [
    "M.coupling_terms['N_i N_j'].coupling_terms"
   ]
  },
  {
   "cell_type": "code",
   "execution_count": null,
   "id": "0750134a-fb29-4c13-a309-9aabb9700857",
   "metadata": {},
   "outputs": [],
   "source": []
  },
  {
   "cell_type": "code",
   "execution_count": null,
   "id": "928d6c0a-aa85-402d-9a1e-62cb95f49643",
   "metadata": {},
   "outputs": [],
   "source": []
  },
  {
   "cell_type": "code",
   "execution_count": 19,
   "id": "45691e34-66bb-4cd6-9432-eef27fa2d353",
   "metadata": {},
   "outputs": [],
   "source": [
    "#help(tmp.coupling_terms['N_i N_j'])"
   ]
  },
  {
   "cell_type": "code",
   "execution_count": null,
   "id": "07e02fa1-58cc-4085-b0c9-f34fb605e611",
   "metadata": {},
   "outputs": [],
   "source": []
  }
 ],
 "metadata": {
  "kernelspec": {
   "display_name": "Python 3 (ipykernel)",
   "language": "python",
   "name": "python3"
  },
  "language_info": {
   "codemirror_mode": {
    "name": "ipython",
    "version": 3
   },
   "file_extension": ".py",
   "mimetype": "text/x-python",
   "name": "python",
   "nbconvert_exporter": "python",
   "pygments_lexer": "ipython3",
   "version": "3.8.12"
  }
 },
 "nbformat": 4,
 "nbformat_minor": 5
}
