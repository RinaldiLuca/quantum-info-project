{
 "cells": [
  {
   "cell_type": "code",
   "execution_count": 180,
   "metadata": {},
   "outputs": [],
   "source": [
    "import numpy as np\n",
    "import matplotlib.pyplot as plt\n",
    "import random\n",
    "import scipy.sparse.linalg.eigen.arpack as arp\n",
    "\n",
    "\n",
    "\n",
    "from tenpy.models.model import CouplingModel, MPOModel\n",
    "from tenpy.models.lattice import Chain\n",
    "from tenpy.networks.site import BosonSite\n",
    "from tenpy.networks.mps import MPS\n",
    "from tenpy.tools.params import asConfig\n",
    "from tenpy.linalg import np_conserved as npc"
   ]
  },
  {
   "cell_type": "markdown",
   "metadata": {},
   "source": [
    "### MPO Hamiltonian"
   ]
  },
  {
   "cell_type": "code",
   "execution_count": 143,
   "metadata": {},
   "outputs": [],
   "source": [
    "class HardCoreBosonModel(CouplingModel,MPOModel):\n",
    "    \n",
    "    def __init__(self, model_params):\n",
    "    \n",
    "        # 0) read out/set default parameters\n",
    "        model_params = asConfig(model_params, \"BoseModel\")\n",
    "        \n",
    "        L = model_params.get('L', 12)                 #length of the chain\n",
    "        t = np.asarray(model_params.get('t', 1.))     #tunnelling rate\n",
    "        rc = model_params.get('rc', 1.)               #range of soft-shoulder interaction\n",
    "        V = np.asarray(model_params.get('V', 1.))     # soft-shoulder interaction\n",
    "        bc_MPS = model_params.get('bc_MPS', 'finite') #boundary condition of MPS\n",
    "        filling = model_params.get('filling', 0.5)    #average site filling \n",
    "        n_max = model_params.get('n_max', 1)          #max number of bosons per site\n",
    "        conserve = model_params.get('conserve', 'N')  \n",
    "        \n",
    "        \n",
    "        # 3) local physical site\n",
    "        self.site = BosonSite(Nmax=n_max, conserve=conserve, filling=filling)\n",
    "        \n",
    "        # 4) lattice #ARE THESE PARAMETERS OK?\n",
    "        bc = 'open' if bc_MPS == 'finite' else 'periodic'\n",
    "        self.lat = Chain(L, self.site, bc=bc, bc_MPS=bc_MPS)\n",
    "        \n",
    "        # 5) initialize CouplingModel\n",
    "        CouplingModel.__init__(self, self.lat)\n",
    "        \n",
    "        \n",
    "        # 6) add terms of the Hamiltonian\n",
    "        \n",
    "        #NEAREST NEIGHBOR INTERACTION \n",
    "        for u1, u2, dx in self.lat.pairs['nearest_neighbors']:\n",
    "            self.add_coupling(-t, u1, 'Bd', u2, 'B', dx, plus_hc=True)\n",
    "            \n",
    "        #SOFT SHOULDER INTERACTION\n",
    "        for int_range in range(2,rc+1):\n",
    "            (u1, u2, dx) = self.lat.find_coupling_pairs(max_dx=L, cutoff=rc).get(int_range)[0]\n",
    "            self.add_coupling(V, u1, 'N', u2, 'N', dx, plus_hc=False)\n",
    "        \n",
    "        # 7) initialize H_MPO\n",
    "        MPOModel.__init__(self, self.lat, self.calc_H_MPO())\n",
    "    "
   ]
  },
  {
   "cell_type": "code",
   "execution_count": 148,
   "metadata": {},
   "outputs": [
    {
     "name": "stdout",
     "output_type": "stream",
     "text": [
      "['wL', 'wR', 'p', 'p*']\n",
      "['wL', 'wR', 'p', 'p*']\n"
     ]
    }
   ],
   "source": [
    "#dictionary of model parameters \n",
    "model_params = {\n",
    "    'bc_MPS' : 'finite',          #boundary conditions for MPS\n",
    "    'conserve' : 'N',             #what should be conserved\n",
    "    'filling' : 1/2,              #float, average filling\n",
    "    'L' : 48,                     #length of the Chain\n",
    "    'n_max' : 1,                  #maximum number of bosons per site\n",
    "    't' : 1,                      #tunnelling rate\n",
    "    'V' : 1,                      #potential\n",
    "    'rc': 4                       #range of soft-shulder ionteraction\n",
    "}\n",
    "\n",
    "#initialize the model\n",
    "model = HardCoreBosonModel(model_params)\n",
    " \n",
    "r\"\"\"\n",
    "\n",
    "Element of the MPO\n",
    "\n",
    "        p*\n",
    "        |\n",
    "        ^\n",
    "        |\n",
    "wL -->--W-->--wR\n",
    "        |\n",
    "        ^\n",
    "        |\n",
    "        p\n",
    "\n",
    "\n",
    "\"\"\"\n",
    "\n",
    "\n",
    "print(model.H_MPO.get_W(0).get_leg_labels())\n",
    "print(model.H_MPO.get_W(model_params.get('L')-1).get_leg_labels())"
   ]
  },
  {
   "cell_type": "markdown",
   "metadata": {},
   "source": [
    "### Create MPS"
   ]
  },
  {
   "cell_type": "code",
   "execution_count": 149,
   "metadata": {},
   "outputs": [
    {
     "data": {
      "text/plain": [
       "'\\n\\nElement of the MPS\\n    \\n    \\n        \\nvL -->--B-->--vR\\n        |\\n        ^\\n        |\\n        p\\n\\n\\n'"
      ]
     },
     "execution_count": 149,
     "metadata": {},
     "output_type": "execute_result"
    }
   ],
   "source": [
    "#create MPs according to average filling in model_params\n",
    "avg_n = model_params.get('filling')\n",
    "\n",
    "#product state: avg_n full sites and (1-avg_n) empty sites\n",
    "product_state = ['1']*int(model.lat.N_sites*avg_n) + ['vac']*int(model.lat.N_sites*(1-avg_n))\n",
    "random.shuffle(product_state)\n",
    "\n",
    "#create MPS\n",
    "psi = MPS.from_product_state(model.lat.mps_sites(), product_state, bc=model.lat.bc_MPS)\n",
    "\n",
    "    \n",
    "r\"\"\"\n",
    "\n",
    "Element of the MPS\n",
    "    \n",
    "    \n",
    "        \n",
    "vL -->--B-->--vR\n",
    "        |\n",
    "        ^\n",
    "        |\n",
    "        p\n",
    "\n",
    "\n",
    "\"\"\"\n",
    "\n",
    "#print(psi.get_B(0))\n",
    "#print(psi.get_B(model_params.get('L')-1))"
   ]
  },
  {
   "cell_type": "markdown",
   "metadata": {},
   "source": [
    "### Step 0: Setup\n",
    "it is imperative to bring the initial MPS into an orthogonal form via a gauge transformation. "
   ]
  },
  {
   "cell_type": "code",
   "execution_count": 150,
   "metadata": {},
   "outputs": [],
   "source": [
    "#bring psi into right-orthogonal form\n",
    "psi.canonical_form()"
   ]
  },
  {
   "cell_type": "code",
   "execution_count": 151,
   "metadata": {},
   "outputs": [],
   "source": [
    "#function to calculate the initial RP\n",
    "def initial_RP(i, psi, model, check=False):\n",
    "    \n",
    "\n",
    "    #get last term of MPS and remove useless leg\n",
    "    r\"\"\"\n",
    "\n",
    "    vL-->--B\n",
    "           |\n",
    "           ^\n",
    "           |\n",
    "           p\n",
    "    \"\"\"\n",
    "    B = psi.get_B(i).squeeze('vR') #vL, p\n",
    "    if check:print(B.get_leg_labels())\n",
    "\n",
    "\n",
    "    #create complex conj tensor\n",
    "    r\"\"\"\n",
    "             p*\n",
    "             |\n",
    "             ^\n",
    "             |\n",
    "    vL* --<--Bc\n",
    "    \"\"\"\n",
    "    Bc = B.conj() #vL* p*\n",
    "    if check: print(Bc.get_leg_labels())\n",
    "\n",
    "\n",
    "    #get last term of MPO and drop useless leg wR\n",
    "    r\"\"\"\n",
    "\n",
    "            p*\n",
    "            |\n",
    "            ^\n",
    "            |\n",
    "    wL -->--W\n",
    "            |\n",
    "            ^\n",
    "            |\n",
    "            p\n",
    "\n",
    "\n",
    "    \"\"\"\n",
    "\n",
    "    W = model.H_MPO.get_W(i).copy()\n",
    "    W = W.take_slice(1,['wR'])#wL p p*\n",
    "    if check: print(W.get_leg_labels())\n",
    "\n",
    "    #create R_(L-1)\n",
    "    r\"\"\"\n",
    "\n",
    "     vL-->--B\n",
    "            |\n",
    "            |\n",
    "    wL -->--W\n",
    "            |\n",
    "            ^\n",
    "            |\n",
    "            p\n",
    "\n",
    "\n",
    "    \"\"\"\n",
    "    RP = npc.tensordot(B, W,axes=['p','p*']) #vL wL p\n",
    "    if check:print(RP.get_leg_labels())\n",
    "\n",
    "    r\"\"\"\n",
    "\n",
    "     vL-->--B\n",
    "            |\n",
    "            |\n",
    "    wL -->--W\n",
    "            |  \n",
    "            |\n",
    "    vL*--<--B\n",
    "    \"\"\"\n",
    "\n",
    "    RP = npc.tensordot(RP,Bc,axes=['p','p*']) #vL wL vL*\n",
    "    if check: print(RP.get_leg_labels())\n",
    "\n",
    "    \n",
    "    return RP"
   ]
  },
  {
   "cell_type": "code",
   "execution_count": 152,
   "metadata": {},
   "outputs": [],
   "source": [
    "#function to calculate all the RPs\n",
    "def update_RP(i, RPs, psi, model, check=False):\n",
    "    \n",
    "    #store previous RP\n",
    "    RP = RPs[i+1]\n",
    "    \n",
    "    #MPS term\n",
    "    r\"\"\"\n",
    "\n",
    "    vL-->--B-->vR\n",
    "           |\n",
    "           ^\n",
    "           |\n",
    "           p\n",
    "    \"\"\"\n",
    "    B = psi.get_B(i) #vL p vR\n",
    "    if check:print(B.get_leg_labels())\n",
    "    \n",
    "    #complex conj MPS term\n",
    "    r\"\"\"\n",
    "             p*\n",
    "             |\n",
    "             ^\n",
    "             |\n",
    "    vL* --<--Bc--<--vR*\n",
    "    \"\"\"\n",
    "    Bc = B.conj() #vL* p* vR*\n",
    "    if check:print(Bc.get_leg_labels())\n",
    "        \n",
    "    #MPO term\n",
    "    r\"\"\"\n",
    "\n",
    "            p*\n",
    "            |\n",
    "            ^\n",
    "            |\n",
    "    wL -->--W-->--wR\n",
    "            |\n",
    "            ^\n",
    "            |\n",
    "            p\n",
    "\n",
    "\n",
    "    \"\"\"\n",
    "    W = model.H_MPO.get_W(i) #wL wR p p*\n",
    "    if check:print(W.get_leg_labels())\n",
    "        \n",
    "    \n",
    "    #contractions\n",
    "    \n",
    "    RP = npc.tensordot(B, RP, axes=['vR','vL']) #vL p [vR], #[vL] wL vL*\n",
    "    if check:print(RP.get_leg_labels())\n",
    "        \n",
    "        \n",
    "    RP = npc.tensordot(RP, W, axes=[['p','wL'],['p*','wR']]) #vL [p] [wL] vL*, wL [wR] p [p*]\n",
    "    if check:print(RP.get_leg_labels())\n",
    "        \n",
    "    RP = npc.tensordot(RP, Bc, axes=[['p','vL*'],['p*','vR*']]) #vL [vL*] wL [p] ,vL* [p*] [vR*]\n",
    "    if check:print(RP.get_leg_labels())\n",
    "        \n",
    "    return RP\n"
   ]
  },
  {
   "cell_type": "code",
   "execution_count": 210,
   "metadata": {},
   "outputs": [],
   "source": [
    "def calculate_all_RPs(psi, model, check=False):\n",
    "    \n",
    "    #empty list of RPs\n",
    "    RPs = [None]*model_params.get('L')\n",
    "    \n",
    "    #initial RP\n",
    "    RP_init = initial_RP(model_params.get('L')-1,psi,model,check=check)\n",
    "    RPs[model_params.get('L')-1] = RP_init #store in list\n",
    "    \n",
    "    for i in range(model_params.get('L')-2,1,-1):\n",
    "        RP = update_RP(i, RPs, psi, model, check=check)\n",
    "        RPs[i] = RP\n",
    "        \n",
    "    return RPs"
   ]
  },
  {
   "cell_type": "code",
   "execution_count": 212,
   "metadata": {},
   "outputs": [],
   "source": [
    "RPs = calculate_all_RPs(psi, model, check=False)\n"
   ]
  },
  {
   "cell_type": "markdown",
   "metadata": {},
   "source": [
    "### contract the first two MPS sites"
   ]
  },
  {
   "cell_type": "code",
   "execution_count": 155,
   "metadata": {},
   "outputs": [],
   "source": [
    "def Bij(i,j,psi,check=False):\n",
    "    \n",
    "    #first element, squeeze useless leg\n",
    "    r\"\"\"\n",
    "\n",
    "           Bi-->vR\n",
    "           |\n",
    "           ^\n",
    "           |\n",
    "           p\n",
    "    \"\"\"\n",
    "    Bi = psi.get_B(i).squeeze('vL') #p vR\n",
    "    if check: print(Bi.get_leg_labels())\n",
    "        \n",
    "        \n",
    "    #second element\n",
    "    r\"\"\"\n",
    "\n",
    "    vL-->--Bj-->vR\n",
    "           |\n",
    "           ^\n",
    "           |\n",
    "           p\n",
    "    \"\"\"\n",
    "    Bj = psi.get_B(j) #vL p vR\n",
    "    if check: print(Bj.get_leg_labels())\n",
    "        \n",
    "        \n",
    "    #contract on shared bond\n",
    "    r\"\"\"\n",
    "\n",
    "     -->Bij-->vR\n",
    "    |    |\n",
    "    ^    ^\n",
    "    |    |\n",
    "    pi  pj\n",
    "    \n",
    "    \"\"\"\n",
    "    Bij = npc.tensordot(Bi, Bj, axes=['vR','vL'])\n",
    "    Bij.ireplace_labels([0,1], ['pi','pj'])\n",
    "    if check: print(Bij.get_leg_labels())\n",
    "    \n",
    "    return Bij\n",
    "    \n",
    "    \n",
    "    \n"
   ]
  },
  {
   "cell_type": "code",
   "execution_count": 156,
   "metadata": {},
   "outputs": [],
   "source": [
    "contracted_B = Bij(0,1,psi,check=False)"
   ]
  },
  {
   "cell_type": "markdown",
   "metadata": {},
   "source": [
    "## Step1 :optimization of first bond"
   ]
  },
  {
   "cell_type": "code",
   "execution_count": 242,
   "metadata": {},
   "outputs": [
    {
     "name": "stdout",
     "output_type": "stream",
     "text": [
      "['wR', 'p', 'p*']\n",
      "['wL', 'wR', 'p', 'p*']\n",
      "['vL', 'wL', 'vL*']\n",
      "['wL', 'p', 'p*', 'vL', 'vL*']\n",
      "['pi', 'pi*', 'pj', 'pj*', 'vL', 'vL*']\n"
     ]
    }
   ],
   "source": [
    "def Heff(i,j, psi, model, RPs, check=False):\n",
    "    #left term MPO, drop useless leg\n",
    "    r\"\"\"\n",
    "\n",
    "            p*\n",
    "            |\n",
    "            ^\n",
    "            |\n",
    "            W1-->--wR\n",
    "            |\n",
    "            ^\n",
    "            |\n",
    "            p\n",
    "\n",
    "\n",
    "    \"\"\"\n",
    "    W1 = model.H_MPO.get_W(i).copy()#wR p p*\n",
    "    W1 = W1.take_slice(0,['wL'])\n",
    "    if check: print(W1.get_leg_labels())\n",
    "        \n",
    "        \n",
    "        \n",
    "    #right term MPO\n",
    "    r\"\"\"\n",
    "\n",
    "            p*\n",
    "            |\n",
    "            ^\n",
    "            |\n",
    "    wL -->--W2-->--wR\n",
    "            |\n",
    "            ^\n",
    "            |\n",
    "            p\n",
    "\n",
    "\n",
    "    \"\"\"\n",
    "    W2 = model.H_MPO.get_W(j) #wL wR p p*\n",
    "    if check: print(W2.get_leg_labels())\n",
    "        \n",
    "        \n",
    "    #contractions\n",
    "    RP = RPs[j+1]\n",
    "    if check:print(RP.get_leg_labels())\n",
    "        \n",
    "    Heff = npc.tensordot(W2,RP,axes=['wR','wL']) #wL [wR] p p*, vL [wL] vL*\n",
    "    if check:print(Heff.get_leg_labels())\n",
    "    \n",
    "    Heff = npc.tensordot(W1,Heff,axes=['wR','wL'])#[wR] p p*, [wL] p p* vL vL*\n",
    "    Heff.ireplace_labels([0,1,2,3],['pi','pi*','pj','pj*'])\n",
    "    if check:print(Heff.get_leg_labels())\n",
    "    \n",
    "    \n",
    "    return Heff\n",
    "\n",
    "\n",
    "Heff = Heff(0,1, psi, model, RPs, check=True)"
   ]
  },
  {
   "cell_type": "code",
   "execution_count": 244,
   "metadata": {},
   "outputs": [
    {
     "name": "stdout",
     "output_type": "stream",
     "text": [
      "['(vL.p1)', '(p0.vR)']\n"
     ]
    }
   ],
   "source": [
    "#TRY WITH NPC\n",
    "\n",
    "#reshape Heff\n",
    "chi = Heff.shape[-2] #vL\n",
    "d1, d2 = Heff.shape[1], Heff.shape[3] #pi*, pj*\n",
    "\n",
    "theta_shape = (d1, d2, chi)  #pi pj vL\n",
    "Heff_shape = (d1 * d2 * chi, d1 * d2 * chi)\n",
    "\n",
    "theta0 = psi.get_theta(0) #vl p0 p1 vR\n",
    "theta0 = theta0.combine_legs([[0,2],[1,3]])\n",
    "print(theta0.get_leg_labels())\n",
    "\n",
    "\n",
    "#LanczosGroundState(Heff, psi0, options, orthogonal_to=[])"
   ]
  },
  {
   "cell_type": "code",
   "execution_count": 232,
   "metadata": {},
   "outputs": [],
   "source": [
    "#ONLY VALID FOR THE FIRST TWO SITES\n",
    "\n",
    "#reshape Heff\n",
    "chi = Heff.shape[-2] #vL\n",
    "d1, d2 = Heff.shape[1], Heff.shape[3] #pi*, pj*\n",
    "\n",
    "theta_shape = (d1, d2, chi)  #pi pj vL\n",
    "Heff_shape = (d1 * d2 * chi, d1 * d2 * chi)\n",
    "\n",
    "\n",
    "# Diagonalize Heff, find ground state `theta`\n",
    "theta0 = np.reshape(psi.get_theta(0).to_ndarray(), theta_shape)  # initial guess\n",
    "Heff = np.reshape(Heff.to_ndarray(),Heff_shape)\n",
    "\n",
    "e, v = arp.eigsh(Heff, k=1, which='SA', return_eigenvectors=True, v0=theta0)\n",
    "theta_new = np.reshape(v[:, 0], theta_shape)"
   ]
  },
  {
   "cell_type": "code",
   "execution_count": 233,
   "metadata": {},
   "outputs": [
    {
     "name": "stdout",
     "output_type": "stream",
     "text": [
      "(2, 2, 1)\n"
     ]
    }
   ],
   "source": [
    "print(theta_new.shape)"
   ]
  },
  {
   "cell_type": "code",
   "execution_count": null,
   "metadata": {},
   "outputs": [],
   "source": []
  },
  {
   "cell_type": "markdown",
   "metadata": {},
   "source": [
    "### Step 1b: Adaptive Restoration of MPS Form"
   ]
  },
  {
   "cell_type": "code",
   "execution_count": 240,
   "metadata": {},
   "outputs": [
    {
     "name": "stdout",
     "output_type": "stream",
     "text": [
      "<class 'numpy.ndarray'> (2, 2)\n",
      "<class 'numpy.ndarray'> (2,)\n",
      "<class 'numpy.ndarray'> (2, 2, 1)\n"
     ]
    }
   ],
   "source": [
    "from scipy.linalg import svd\n",
    "\n",
    "def SVD_initial(theta, chi_max, eps):\n",
    "    r\"\"\"\n",
    "    Split a two-site wave function as follows::\n",
    "               (theta)-- vR     =>         (A)--diag(S)--(B)-- vR\n",
    "                |   |                       |             |\n",
    "                i   j                       i             j\n",
    "    \"\"\"\n",
    "    #store dimensions\n",
    "    dL, dR, chivR = theta.shape #pi pj vR\n",
    "    \n",
    "    #reshape as a matrix\n",
    "    theta = np.reshape(theta, [dL, dR * chivR])\n",
    "    \n",
    "    #decompose according to SVD\n",
    "    X, Y, Z = svd(theta, full_matrices=False)\n",
    "    \n",
    "    # truncate\n",
    "    #truncation dimension, minimum between chi_max and all the singular values greater than eps\n",
    "    chivC = min(chi_max, np.sum(Y > eps)) \n",
    "    \n",
    "    # keep the largest `chivC` singular values\n",
    "    piv = np.argsort(Y)[::-1][:chivC]  \n",
    "    X, Y, Z = X[:, piv], Y[piv], Z[piv, :]\n",
    "    \n",
    "    # renormalize\n",
    "    S = Y / np.linalg.norm(Y)  # == Y/sqrt(sum(Y**2))\n",
    "    \n",
    "    # split legs of X and Z\n",
    "    A = np.reshape(X, [dL, chivC]) #vL, i, chivC\n",
    "    B = np.reshape(Z, [chivC, dR, chivR]) #chivC, j, vR\n",
    "    \n",
    "    \n",
    "    return A, S, B\n",
    "    \n",
    "    \n",
    "    \n",
    "    \n",
    "Ui, Sij, Vj = SVD_initial(theta_new,chi_max=30, eps=1.e-10)\n",
    "\n",
    "\n",
    "print(type(Ui),Ui.shape)\n",
    "print(type(Sij),Sij.shape)\n",
    "print(type(Vj),Vj.shape)\n"
   ]
  },
  {
   "cell_type": "code",
   "execution_count": null,
   "metadata": {},
   "outputs": [],
   "source": [
    "#Absorb S into V\n"
   ]
  }
 ],
 "metadata": {
  "kernelspec": {
   "display_name": "Python 3",
   "language": "python",
   "name": "python3"
  },
  "language_info": {
   "codemirror_mode": {
    "name": "ipython",
    "version": 3
   },
   "file_extension": ".py",
   "mimetype": "text/x-python",
   "name": "python",
   "nbconvert_exporter": "python",
   "pygments_lexer": "ipython3",
   "version": "3.7.6"
  }
 },
 "nbformat": 4,
 "nbformat_minor": 4
}
