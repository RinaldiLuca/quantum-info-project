{
 "cells": [
  {
   "cell_type": "code",
   "execution_count": 2,
   "metadata": {},
   "outputs": [],
   "source": [
    "import numpy as np\n",
    "from matplotlib import pyplot as plt\n",
    "from tenpy.models.hubbard import BoseHubbardModel\n",
    "from tenpy.networks.mps import MPS\n",
    "from tenpy.algorithms import dmrg\n",
    "\n",
    "import numpy as np\n",
    "import matplotlib.pyplot as plt\n",
    "\n",
    "from tenpy.models.model import CouplingMPOModel, CouplingModel, MPOModel\n",
    "from tenpy.models.lattice import Chain, SimpleLattice, Lattice\n",
    "from tenpy.networks.site import BosonSite\n",
    "from tenpy.tools.params import asConfig"
   ]
  },
  {
   "cell_type": "code",
   "execution_count": 5,
   "metadata": {},
   "outputs": [],
   "source": [
    "#USER-DEFINED MODEL\n",
    "class HardCoreBosonModel(CouplingMPOModel,MPOModel):\n",
    "    \n",
    "    def __init__(self, model_params):\n",
    "    \n",
    "        # 0) read out/set default parameters\n",
    "        model_params = asConfig(model_params, \"BoseModel\")\n",
    "        \n",
    "        L = model_params.get('L', 12)                 #length of the chain\n",
    "        t = np.asarray(model_params.get('t', 1.))     #tunnelling rate\n",
    "        rc = model_params.get('rc', 1.)               #range of soft-shoulder interaction\n",
    "        V = np.asarray(model_params.get('V', 1.))     # soft-shoulder interaction\n",
    "        bc_MPS = model_params.get('bc_MPS', 'finite') #boundary condition of MPS\n",
    "        filling = model_params.get('filling', 0.5)    #average site filling \n",
    "        n_max = model_params.get('n_max', 1)          #max number of bosons per site\n",
    "        conserve = model_params.get('conserve', 'N')  \n",
    "        \n",
    "        \n",
    "        # 3) local physical site\n",
    "        site = BosonSite(Nmax=n_max, conserve=conserve, filling=filling)\n",
    "        \n",
    "        # 4) lattice #ARE THESE PARAMETERS OK?\n",
    "        bc = 'open' if bc_MPS == 'finite' else 'periodic'\n",
    "        lat = Chain(L, site, bc=bc, bc_MPS=bc_MPS)\n",
    "        \n",
    "        # 5) initialize CouplingModel\n",
    "        CouplingModel.__init__(self, lat)\n",
    "        \n",
    "        \n",
    "        # 6) add terms of the Hamiltonian\n",
    "        \n",
    "        #NEAREST NEIGHBOR INTERACTION \n",
    "        for u1, u2, dx in self.lat.pairs['nearest_neighbors']:\n",
    "            self.add_coupling(-t, u1, 'Bd', u2, 'B', dx, plus_hc=True)\n",
    "            \n",
    "        #SOFT SHOULDER INTERACTION\n",
    "        for int_range in range(2,rc+1):\n",
    "            (u1, u2, dx) = self.lat.find_coupling_pairs(max_dx=L, cutoff=rc).get(int_range)[0]\n",
    "            self.add_coupling(V, u1, 'N', u2, 'N', dx, plus_hc=False)\n",
    "        \n",
    "        # 7) initialize H_MPO\n",
    "        MPOModel.__init__(self, lat, self.calc_H_MPO())\n",
    "    \n",
    "    "
   ]
  },
  {
   "cell_type": "code",
   "execution_count": 15,
   "metadata": {},
   "outputs": [],
   "source": [
    "#DMRG function\n",
    "\n",
    "def DMRG_Bose_finite(model_params):\n",
    "    \n",
    "    #read and set default values\n",
    "    t = model_params.get('t',1)\n",
    "    V = model_params.get('V',1)\n",
    "    L = model_params.get('L',12)\n",
    "    \n",
    "    print(\"finite DMRG, Hard-Core Bose Model\")\n",
    "    print(\"t={t:.2f}, V={V:.2f}\".format(t=t, V=V))\n",
    "    \n",
    "    \n",
    "    #define model\n",
    "    M = HardCoreBosonModel(model_params)\n",
    "    \n",
    "    #define initial MPS\n",
    "    psi = MPS.from_product_state(M.lat.mps_sites(), [1,'vac']*int(L/2), \"finite\")\n",
    "    \n",
    "    #dmrg algorithm parameters\n",
    "    dmrg_params = {\n",
    "        'mixer': None,  # setting this to True helps to escape local minima\n",
    "        'max_E_err': 1.e-10,\n",
    "        'trunc_params': {\n",
    "            'chi_max': 30,\n",
    "            'svd_min': 1.e-10\n",
    "        },\n",
    "        'combine': True\n",
    "    }\n",
    "    \n",
    "    #call a 'DMRG engine' explicitly\n",
    "    eng = dmrg.TwoSiteDMRGEngine(psi, M, dmrg_params)\n",
    "    info, psi = eng.run()  # equivalent to dmrg.run() up to the return parameters.\n",
    "    \n",
    "    return info, psi\n"
   ]
  },
  {
   "cell_type": "code",
   "execution_count": 14,
   "metadata": {},
   "outputs": [
    {
     "name": "stdout",
     "output_type": "stream",
     "text": [
      "finite DMRG, Hard-Core Bose Model\n",
      "t=0.00, V=1.00\n",
      "E: 22.0\n",
      "MPS, L=48, bc='finite'.\n",
      "chi: [1, 1, 1, 1, 1, 1, 1, 1, 1, 1, 1, 1, 1, 1, 1, 1, 1, 1, 1, 1, 1, 1, 1, 1, 1, 1, 1, 1, 1, 1, 1, 1, 1, 1, 1, 1, 1, 1, 1, 1, 1, 1, 1, 1, 1, 1, 1]\n",
      "first two sites: BosonSite(1, 'N', 0.750000) BosonSite(1, 'N', 0.750000)\n",
      "first two forms:(1.0, 0.0) (1.0, 0.0)\n"
     ]
    }
   ],
   "source": [
    "#dictionary of model parameters \n",
    "model_params = {\n",
    "    'bc_MPS' : 'finite',          #boundary conditions for MPS\n",
    "    'conserve' : 'N',             #what should be conserved\n",
    "    'filling' : 3/4,              #float, average filling\n",
    "    'L' : 48,                     #length of the Chain\n",
    "    'n_max' : 1,                  #maximum number of bosons per site\n",
    "    't' : 0,                      #tunnelling rate\n",
    "    'V' : 1,                      #potential\n",
    "    'rc': 4                       #range of soft-shulder ionteraction\n",
    "}\n",
    "\n",
    "#run DMRG\n",
    "info, psi = DMRG_Bose_finite(model_params)\n",
    "\n",
    "\n",
    "print(\"E:\",info)\n",
    "print(psi) #non mi piacciono le bond dimensions, non so perché vengono così\n"
   ]
  },
  {
   "cell_type": "code",
   "execution_count": 20,
   "metadata": {},
   "outputs": [
    {
     "data": {
      "image/png": "[encoded data removed]",
      "text/plain": [
       "<Figure size 432x288 with 1 Axes>"
      ]
     },
     "metadata": {
      "needs_background": "light"
     },
     "output_type": "display_data"
    }
   ],
   "source": [
    "#calculate correlation function ???\n",
    "correlation_matrix = psi.correlation_function('N','N') #- model_params.get('filling')**2\n",
    "\n",
    "def structure_factor(k, corr_matrix, model_params):\n",
    "    \n",
    "    L = model_params.get('L', 48)\n",
    "    res = 0\n",
    "\n",
    "    for i in range(L):\n",
    "        for j in range(L):\n",
    "             res += (corr_matrix[i,j]/L) * (np.cos(k*(i-j)) + np.imag(np.sin(k*(i-j)))) #???\n",
    "    \n",
    "    return res\n",
    "\n",
    "k = np.arange(0,np.pi,0.001)\n",
    "\n",
    "plt.figure(1)\n",
    "plt.plot(k,structure_factor(k,correlation_matrix, model_params))\n",
    "plt.ylabel(\"S(k)\")\n",
    "plt.xlabel(\"k\")\n",
    "plt.show()"
   ]
  },
  {
   "cell_type": "code",
   "execution_count": 37,
   "metadata": {},
   "outputs": [
    {
     "data": {
      "image/png": "[encoded data removed]",
      "text/plain": [
       "<Figure size 432x288 with 1 Axes>"
      ]
     },
     "metadata": {
      "needs_background": "light"
     },
     "output_type": "display_data"
    }
   ],
   "source": [
    "plt.figure(1)\n",
    "\n",
    "plt.hist(psi.expectation_value('N'))\n",
    "plt.show()\n"
   ]
  },
  {
   "cell_type": "raw",
   "metadata": {},
   "source": []
  },
  {
   "cell_type": "code",
   "execution_count": null,
   "metadata": {},
   "outputs": [],
   "source": []
  }
 ],
 "metadata": {
  "kernelspec": {
   "display_name": "Python 3",
   "language": "python",
   "name": "python3"
  },
  "language_info": {
   "codemirror_mode": {
    "name": "ipython",
    "version": 3
   },
   "file_extension": ".py",
   "mimetype": "text/x-python",
   "name": "python",
   "nbconvert_exporter": "python",
   "pygments_lexer": "ipython3",
   "version": "3.7.6"
  }
 },
 "nbformat": 4,
 "nbformat_minor": 4
}
