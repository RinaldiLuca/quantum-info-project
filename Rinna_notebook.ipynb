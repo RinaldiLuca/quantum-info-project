{
 "cells": [
  {
   "cell_type": "code",
   "execution_count": 181,
   "id": "dada10a6-fb8c-4163-9ba3-fbadd8d7f4ec",
   "metadata": {},
   "outputs": [],
   "source": [
    "import numpy as np\n",
    "\n",
    "from tenpy.networks.mps import MPS\n",
    "from tenpy.models.model import CouplingMPOModel#, NearestNeighborModel\n",
    "#from tenpy.lattice import Chain\n",
    "#from ..tools.params import asConfig\n",
    "from tenpy.networks.site import BosonSite#, SpinHalfFermionSite\n",
    "from tenpy.algorithms import dmrg\n",
    "\n",
    "import matplotlib.pyplot as plt\n",
    "#__all__ = ['BoseHubbardModel', 'BoseHubbardChain', 'FermiHubbardModel', 'FermiHubbardChain']\n"
   ]
  },
  {
   "cell_type": "code",
   "execution_count": 199,
   "id": "379c21b0-9bfc-4213-83d9-104a8d1a1317",
   "metadata": {},
   "outputs": [],
   "source": [
    "class myModel(CouplingMPOModel):\n",
    "    r\"\"\"Spinless Bose-Hubbard model.\n",
    "    The Hamiltonian is:\n",
    "    .. math ::\n",
    "        H = - t \\sum_{\\langle i, j \\rangle, i < j} (b_i^{\\dagger} b_j + b_j^{\\dagger} b_i)\n",
    "            + V \\sum_{\\langle i, j \\rangle, i < j} n_i n_j\n",
    "            + \\frac{U}{2} \\sum_i n_i (n_i - 1) - \\mu \\sum_i n_i\n",
    "    Here, :math:`\\langle i,j \\rangle, i< j` denotes nearest neighbor pairs.\n",
    "    All parameters are collected in a single dictionary `model_params`, which\n",
    "    is turned into a :class:`~tenpy.tools.params.Config` object.\n",
    "    Parameters\n",
    "    ----------\n",
    "    model_params : :class:`~tenpy.tools.params.Config`\n",
    "        Parameters for the model. See :cfg:config:`BoseHubbardModel` below.\n",
    "    Options\n",
    "    -------\n",
    "    .. cfg:config :: BoseHubbardModel\n",
    "        :include: CouplingMPOModel\n",
    "        n_max : int\n",
    "            Maximum number of bosons per site.\n",
    "        filling : float\n",
    "            Average filling.\n",
    "        conserve: {'best' | 'N' | 'parity' | None}\n",
    "            What should be conserved. See :class:`~tenpy.networks.Site.BosonSite`.\n",
    "        t, U, V, mu: float | array\n",
    "            Couplings as defined in the Hamiltonian above. Note the signs!\n",
    "    \"\"\"\n",
    "    def init_sites(self, model_params):\n",
    "        n_max = model_params.get('n_max', 3)\n",
    "        filling = model_params.get('filling', 0.5)\n",
    "        conserve = model_params.get('conserve', 'N')\n",
    "        if conserve == 'best':\n",
    "            conserve = 'N'\n",
    "            self.logger.info(\"%s: set conserve to %s\", self.name, conserve)\n",
    "        site = BosonSite(Nmax=n_max, conserve=conserve, filling=filling)\n",
    "        return site\n",
    "\n",
    "    def init_terms(self, model_params):\n",
    "        # 0) Read and set parameters.\n",
    "        rc = model_params.get('rc', 4)\n",
    "        t = model_params.get('t', 1.)\n",
    "        U = model_params.get('U', 0.)\n",
    "        V = model_params.get('V', 0.)\n",
    "        mu = model_params.get('mu', 0)\n",
    "#        for u in range(len(self.lat.unit_cell)):\n",
    "#            self.add_onsite(-mu - U / 2., u, 'N')\n",
    "#            self.add_onsite(U / 2., u, 'NN')\n",
    "        for u1, u2, dx in self.lat.pairs['nearest_neighbors']:\n",
    "            print(u1)\n",
    "            self.add_coupling(-t, u1, 'Bd', u2, 'B', dx, plus_hc=True)\n",
    "#            self.add_coupling(V, u1, 'N', u2, 'N', dx)\n",
    "        for dx in range(1,rc):\n",
    "            self.add_coupling(V, 0, 'N', 0, 'N', dx)\n",
    "#            self.add_coupling(V, 0, 'N', 0, 'N', -dx)"
   ]
  },
  {
   "cell_type": "code",
   "execution_count": 281,
   "id": "00c4d8d3-e64f-4a19-a554-238e60a2aeb8",
   "metadata": {},
   "outputs": [
    {
     "name": "stdout",
     "output_type": "stream",
     "text": [
      "0\n"
     ]
    }
   ],
   "source": [
    "model_params = dict(L=48, n_max=1, t=0.1, V=0.5, rc=4, conserve='N', filling=1/4, bc_MPS='finite')\n",
    "M = myModel(model_params)\n",
    "product_state = ['1','vac','vac','vac']*(M.lat.N_sites//4)\n",
    "psi = MPS.from_product_state(M.lat.mps_sites(), product_state, bc=M.lat.bc_MPS)"
   ]
  },
  {
   "cell_type": "code",
   "execution_count": 283,
   "id": "8c11ed62-c09c-43ad-89a1-17dcf3e8d247",
   "metadata": {},
   "outputs": [
    {
     "data": {
      "text/plain": [
       "<BarContainer object of 48 artists>"
      ]
     },
     "execution_count": 283,
     "metadata": {},
     "output_type": "execute_result"
    },
    {
     "data": {
      "image/png": "[encoded data removed]",
      "text/plain": [
       "<Figure size 432x288 with 1 Axes>"
      ]
     },
     "metadata": {
      "needs_background": "light"
     },
     "output_type": "display_data"
    }
   ],
   "source": [
    "plt.bar(range(48), psi.expectation_value('N'))"
   ]
  },
  {
   "cell_type": "code",
   "execution_count": 284,
   "id": "9c59594d-66e7-43b0-8a85-2adbbf227c6e",
   "metadata": {},
   "outputs": [],
   "source": [
    "dmrg_params = {\n",
    "        'mixer': True,  # setting this to True helps to escape local minima\n",
    "        'max_E_err': 1.e-10,\n",
    "        'trunc_params': {\n",
    "            'chi_max': 30,\n",
    "            'svd_min': 1.e-10\n",
    "        },\n",
    "        'combine': True,\n",
    "        'min_sweeps' : 5#,\n",
    "        #'max_sweeps' : 5\n",
    "    }\n",
    "info = dmrg.run(psi, M, dmrg_params)"
   ]
  },
  {
   "cell_type": "code",
   "execution_count": 285,
   "id": "205d07f1-0088-4f73-aeca-291427b19a12",
   "metadata": {},
   "outputs": [
    {
     "data": {
      "image/png": "[encoded data removed]",
      "text/plain": [
       "<Figure size 432x288 with 1 Axes>"
      ]
     },
     "metadata": {
      "needs_background": "light"
     },
     "output_type": "display_data"
    }
   ],
   "source": [
    "plt.bar(range(64)[:10], psi.expectation_value('N')[:10])\n",
    "plt.show()"
   ]
  },
  {
   "cell_type": "code",
   "execution_count": 287,
   "id": "b968a234-819e-403f-8608-188015403ea2",
   "metadata": {},
   "outputs": [
    {
     "data": {
      "image/png": "[encoded data removed]",
      "text/plain": [
       "<Figure size 432x288 with 1 Axes>"
      ]
     },
     "metadata": {
      "needs_background": "light"
     },
     "output_type": "display_data"
    }
   ],
   "source": [
    "correlation_matrix = psi.correlation_function('N','N') #- model_params.get('filling')**2\n",
    "\n",
    "def structure_factor(k, corr_matrix, model_params):\n",
    "    \n",
    "    L = model_params.get('L', 64)\n",
    "    res = 0 \n",
    "    j = 0+1j\n",
    "    for ii in range(L):\n",
    "        for jj in range(L):\n",
    "            res += ((corr_matrix[ii,jj] - 1/16)/L) * np.exp(j*k*(ii-jj))\n",
    "    return res\n",
    "\n",
    "k = np.linspace(0,np.pi,50)\n",
    "\n",
    "plt.figure(1)\n",
    "plt.plot(k,np.real(structure_factor(k,correlation_matrix, model_params)), 'o')\n",
    "plt.plot(k,np.imag(structure_factor(k,correlation_matrix, model_params)), 'o')\n",
    "#plt.plot(k,np.imag(structure_factor(k,correlation_matrix, model_params)), 'o')\n",
    "plt.ylabel(\"S(k)\")\n",
    "plt.xlabel(\"k\")\n",
    "plt.show()"
   ]
  },
  {
   "cell_type": "code",
   "execution_count": 256,
   "id": "6c98275a-6a8a-4113-9ddc-f259346a2b46",
   "metadata": {},
   "outputs": [
    {
     "data": {
      "text/plain": [
       "(18.375000000000078+0j)"
      ]
     },
     "execution_count": 256,
     "metadata": {},
     "output_type": "execute_result"
    }
   ],
   "source": [
    "structure_factor(0,correlation_matrix, model_params)"
   ]
  },
  {
   "cell_type": "code",
   "execution_count": null,
   "id": "8b095832-c686-4e25-9bd8-b746ddafa2d1",
   "metadata": {},
   "outputs": [],
   "source": []
  }
 ],
 "metadata": {
  "kernelspec": {
   "display_name": "Python 3 (ipykernel)",
   "language": "python",
   "name": "python3"
  },
  "language_info": {
   "codemirror_mode": {
    "name": "ipython",
    "version": 3
   },
   "file_extension": ".py",
   "mimetype": "text/x-python",
   "name": "python",
   "nbconvert_exporter": "python",
   "pygments_lexer": "ipython3",
   "version": "3.8.12"
  }
 },
 "nbformat": 4,
 "nbformat_minor": 5
}
